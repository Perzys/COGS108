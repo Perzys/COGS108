{
 "cells": [
  {
   "cell_type": "markdown",
   "metadata": {},
   "source": [
    "# COGS 108 - Assignment 4: Project Proposal"
   ]
  },
  {
   "cell_type": "markdown",
   "metadata": {},
   "source": [
    "## Important\n",
    "\n",
    "- Make sure all group member (3-5 people) are listed in the group members section.\n",
    "- ONE, and only one, member of your group should upload this notebook to TritonED. \n",
    "- Each member of the group will receive the same grade on this assignment. \n",
    "- Keep the file name the same: submit the file 'A4_ProjectProposal.ipynb'"
   ]
  },
  {
   "cell_type": "markdown",
   "metadata": {},
   "source": [
    "## Overview"
   ]
  },
  {
   "cell_type": "markdown",
   "metadata": {},
   "source": [
    "Read the project description, and detailed instructions for this assignment, in the 'A4_ProjectOutlineAndProposal' pdf."
   ]
  },
  {
   "cell_type": "markdown",
   "metadata": {},
   "source": [
    "## Group Members: Fill in the Student ID's of each group member here\n",
    "- A12947881\n",
    "- A10738406\n",
    "- A91081797\n",
    "- A11727873\n",
    "- A12226838"
   ]
  },
  {
   "cell_type": "markdown",
   "metadata": {},
   "source": [
    "### Research Question\n",
    "\n",
    "What is your research question? (1-2 sentences)"
   ]
  },
  {
   "cell_type": "markdown",
   "metadata": {},
   "source": [
    "Does race correlate with either proportion of traffic stops or the outcome of the stops (warning, citation, arrest, etc.)? "
   ]
  },
  {
   "cell_type": "markdown",
   "metadata": {},
   "source": [
    "### Hypothesis\n",
    "\n",
    "What is your prediction (2-3 sentences)"
   ]
  },
  {
   "cell_type": "markdown",
   "metadata": {},
   "source": [
    "We predict that people of color are more likely to be stopped by the police than white people within the same region. Furthermore, we believe black, Hispanic, other, and Asian people will be disproportionately stopped by the police in that order.  We suspect race will have a correlation with the result of stop, with people of color disproportionately receiving harsher punishment than white people. "
   ]
  },
  {
   "cell_type": "markdown",
   "metadata": {},
   "source": [
    "### Dataset(s)\n",
    "\n",
    "What data will you use to answer your question? Describe the dataset in terms of number of observations, what kind of features it contains, etc. You must use at least one dataset containing at least approximately 1000 observations (if your data are smaller but you feel they are sufficient, email Prof. Voytek). You are welcome (and in fact recommended) to find multiple datasets! If you do so, describe each one, and briefly explain how you will combine them together. "
   ]
  },
  {
   "cell_type": "markdown",
   "metadata": {},
   "source": [
    "- Dataset Name: San Francisco  Police Department Sworn Demographics\n",
    "- Link to the dataset: http://sanfranciscopolice.org/sites/default/files/Documents/Sworn%20EEO%20Data%20May%2020171.pdf\n",
    "- Number of observations: 2294. Contains the male, female, and total ratio of ethnicities of the San Francisco Police Department.\n",
    "\n",
    "- Dataset Name: Traffic Stops by Race and Ethnicity in San Francisco (2016)\n",
    "- Link to the dataset: http://sanfranciscopolice.org/sites/default/files/Documents/PoliceDocuments/Statistics/sfpd-all-traffic-stop-2016%281%29.xlsx\n",
    "- Number of observations: 97,013 totaled across three documents. This dataset is the combination of three documents. Document “2016” has 65,535 observations, “Crossroads 2016” has 25,805 observations, and “eStops 2016” has 4,855 observations. “2016” and “Crossroads 2017 each have ten features: date, time, race, sex, age, reason for stop, rest, result of stop, location for stop, and district. “eStops 2016” also has the same ten features with an extra feature for the location of the stop. \n",
    "\n",
    "- Dataset Name: San Francisco 2015 Census\n",
    "- Link to the dataset: https://www.census.gov/quickfacts/table/PST045216/06075\n",
    "- Number of observations: 87. A dataset composed of 87 figures depicting the populations of various demographics of San Francisco, including: age, race, gender, education level, disability status, employment status, etc. "
   ]
  },
  {
   "cell_type": "markdown",
   "metadata": {},
   "source": [
    "### Background & Prior Work\n",
    "\n",
    "Why is this question of interest, what background information led you to your hypothesis, and why is this important?\n",
    "\n",
    "Find some relevant prior work, and reference them. Even if you think you have a totally novel question, find the most similar prior work you can, and discuss how it relates to your project. \n",
    "\n",
    "References can be research publications, but they need not be: blogs, github repositories, company websites, etc., are viable references if they are relevant to your project.\n",
    "\n",
    "(2-3 paragraphs, including at least 2 references)"
   ]
  },
  {
   "cell_type": "markdown",
   "metadata": {},
   "source": [
    "References\n",
    "1) http://www.nbcnews.com/health/health-news/black-people-more-likely-be-stopped-cops-study-finds-n616546\n",
    "2) http://www.motherjones.com/politics/2015/07/traffic-stops-black-people-waller-county\n",
    "3) http://www.sfchronicle.com/crime/article/Racial-disparities-in-SF-traffic-searches-raise-7235690.php\n",
    "\n",
    "Police brutality and racism have been two huge social concerns in the last couple of years within the United States. For example, Black Lives Matter, a racial justice movement, was spurred by the shooting of Mike Brown, a black teenager, by a white police officer. Since then, there have not only been countless shootings but only other instances of racism within police departments. In a 2016 study it was found that while black people comprise only 13% of the United States population, they account for 28% of the arrests made [1]. With statistics such as these and increased news coverage a lot of research has been done within this area. \n",
    "\n",
    "There has been research correlating race with both the amount of traffic stops and the outcome of the stop. Waller County, Texas was recently put under the spotlight due to the mysterious death of Sandra Bland, a black woman who was taken into custody as a result of a traffic stop. According to Census estimates, Waller County is 70.5% white, 25.8% black, 1.5% Native American, and .7% Asian. Yet those who are stopped for traffic violations are only 44.3% white, 29.1% black, and 24.8% Hispanic [2]. Similar to this situation, within San Francisco it is reported that once pulled over for a traffic violation, black drivers are more than four times and Latinos more than two and a half times likely to be searched compared to white drivers [3].\n",
    "\n",
    "This information led us to form our hypothesis. In order for police brutality and racism to stop, questions such as ours must be answered. Doing data analysis such as ours not only brings light to the racism within police departments, but also gives concrete numbers and answers. With concrete data and answers it is hard to deny for both the police and the public that racism within our country is still not an issue today. \n"
   ]
  },
  {
   "cell_type": "markdown",
   "metadata": {},
   "source": [
    "### Proposed Methods\n",
    "\n",
    "What methods will you use to analyze your data?\n",
    "\n",
    "- How 'clean' is the data? To the extent that it requires cleaning, how will you do so?\n",
    "- How will you analyze the data? Be as specific as you can. Briefly mention any pre-processing steps that are required for your methods (for example, checking data distributions and performing any transformations that may be required). Include a brief outline of how you will apply your chosen method(s). \n",
    "- What do you plan to report? Briefly mention any key visualizations you plan to create, and/or the kind of result you will be able to report that addresses your question (this could be, for example, the outcome of some statistical test(s), prediction error on a model, a model fit parameter, etc.).\n",
    "- Include a list of packages you expect to use for you project. If you plan to use packages we have not used in class, add a very brief description about them (a few words is sufficient). "
   ]
  },
  {
   "cell_type": "markdown",
   "metadata": {},
   "source": [
    "*Fill in your proposed methods information here:*\n",
    "\n",
    "*Data Cleaning (2-3 sentences)*\n",
    "\n",
    "Since we are using multiple datasets that cover similar information, specifically those datasets that deal with traffic stops, we will need to make sure that data entered under similar fields (i.e. date, race, or reason for stop) are coded in the same way across datasets in order to properly merge the data into one unified set without creating duplicates (e.g. by fixing discrepancies such as “crash” vs. “collision”). Due to the large amount of data we are working with, it is possible we may miss some differences in wording by simply searching through the data manually, so we will look for a sort of legend that may be provided through the same source as the datasets that might delineate all the terms used in the dataset. \n",
    "\n",
    "*Data Analysis (1-2 paragraphs)*\n",
    "\n",
    "We will primarily be using statistical tests to analyze our data. Specifically, in order to assess the relationship between race and rates of traffic stops in relation to base population demographics, we will be using a chi squared goodness of fit test. This will allow us to assess whether rates of traffic stops for each race correlate to the proportion of the population that identifies as that race. If there is a discrepancy, then other factors such as racial bias may be involved. If an overall difference is found through the chi squared test, we may follow up with more specific tests (single proportion tests) to investigate within each racial group. The sample sizes and independence of the data satisfy all the assumptions required for a chi squared test so no further pre-processing will be required beyond basic cleaning as outlined above.  \n",
    "\n",
    "In order to assess the relationship between race and the severity of outcomes from these traffic stops, we will use a one way ANOVA and may follow up with more specific tests as with above, if we find a significant difference and wish to investigate further. A one-way ANOVA requires an assumption of normality and homoscedasticity. Normality should be given based on our large sample size, but whether there are equal variances between data for each race will need to be assessed somehow. This whole process generally will involve recoding some of the data into numbers on a scale, such as for the severity of traffic stop outcomes, and performing general arithmetic operations on the data.\n",
    "\n",
    "*What to report (2-3 sentences)*\n",
    "\n",
    "We will report the chi squared values from the first set of tests and explain what this value means in terms of how closely traffic stop rates reflect the underlying population demographics for each racial group. If the proportions are significantly different from one another, then this indicates that some other forces are at play, possibly such as racial biases. To address the second part of our question about how race might correlate to the outcomes of traffic stops, we will we will report the outcomes of the one-way ANOVA with an explanation of what the results mean in terms of our hypothesis. For both of the above, if we choose to carry out additional, more specific tests, we will report their results as well in statistical terms as well as framed within the scope of our question.\n",
    "\n",
    "Packages we plan to use:\n",
    "- Pandas to work with datasets in pandas dataframes\n",
    "- NumPy to manipulate dataset values\n",
    "- Matplotlib.pyplot to graph resulting trends/correlations\n"
   ]
  },
  {
   "cell_type": "markdown",
   "metadata": {},
   "source": [
    "### Discussion\n",
    "\n",
    "What are the pitfalls and potential confounds of your data and/or methods? For example, how might biases in your data sources or analyses influence your interpretations? What will you do if you methods don't work and/or your hypotheses are wrong?\n",
    "\n",
    "(2-3 paragraphs)"
   ]
  },
  {
   "cell_type": "markdown",
   "metadata": {},
   "source": [
    "The main drawback of our analysis is that it is purely correlational, so conjectures about the causal nature of any relationships we find or the specific mechanisms through which such relationships are mediated are tenuous at best. Our data is more appropriate for simply assessing the existence of the problem and either corroborating or refuting the results of prior analyses regarding the disproportionate treatment of people of color. Another drawback is that our data sets are incomplete. This can be seen by the total number of observations reported compared to the complete number of traffic stops during 2016, which was 108,736. Therefore, we do expect our data to have some bias. \n",
    "\n",
    "If our methods do not work we will consider other methods, reach out to fellow teams to consult them for which methods they used, or contact the TAs or professor in order to advise on next steps. If our hypothesis is incorrect, although unlikely, we will do more research within our topic and check if we used the methods we used correctly. "
   ]
  }
 ],
 "metadata": {
  "kernelspec": {
   "display_name": "Python 3",
   "language": "python",
   "name": "python3"
  },
  "language_info": {
   "codemirror_mode": {
    "name": "ipython",
    "version": 3
   },
   "file_extension": ".py",
   "mimetype": "text/x-python",
   "name": "python",
   "nbconvert_exporter": "python",
   "pygments_lexer": "ipython3",
   "version": "3.6.0"
  }
 },
 "nbformat": 4,
 "nbformat_minor": 2
}
